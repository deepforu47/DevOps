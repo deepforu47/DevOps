{
  "nbformat": 4,
  "nbformat_minor": 0,
  "metadata": {
    "kernelspec": {
      "display_name": "Python 3",
      "language": "python",
      "name": "python3"
    },
    "language_info": {
      "codemirror_mode": {
        "name": "ipython",
        "version": 3
      },
      "file_extension": ".py",
      "mimetype": "text/x-python",
      "name": "python",
      "nbconvert_exporter": "python",
      "pygments_lexer": "ipython3",
      "version": "3.7.5"
    },
    "colab": {
      "name": "pythonfordevops-kuldeep",
      "provenance": [],
      "collapsed_sections": [],
      "include_colab_link": true
    }
  },
  "cells": [
    {
      "cell_type": "markdown",
      "metadata": {
        "id": "view-in-github",
        "colab_type": "text"
      },
      "source": [
        "<a href=\"https://colab.research.google.com/github/deepforu47/DevOps/blob/master/pythonfordevops_kuldeep.ipynb\" target=\"_parent\"><img src=\"https://colab.research.google.com/assets/colab-badge.svg\" alt=\"Open In Colab\"/></a>"
      ]
    },
    {
      "cell_type": "markdown",
      "metadata": {
        "id": "L0rJnmZyOCKJ",
        "colab_type": "text"
      },
      "source": [
        "#Python For DevOps#\n",
        "**Chapter-01**"
      ]
    },
    {
      "cell_type": "code",
      "metadata": {
        "id": "5k-BzbR4OCKL",
        "colab_type": "code",
        "colab": {}
      },
      "source": [
        "from string import Template\n",
        "greeting = Template(\"$hello Mark Anthony\")\n",
        "print(greeting.substitute(hello=\"Bonjour\"))\n",
        "\n",
        "\n",
        "print('{} comes before {}'.format('first', 'second'))\n",
        "print(\"Here a dict works to supply the key values for name based replacement fields:\")\n",
        "values = {'first': 'Bill', 'last': 'Bailey'}\n",
        "print(\"Won't you come home {first} {last}?\".format(**values))\n",
        "\n",
        "count = 43\n",
        "print(f\"|{count:5d}\")\n",
        "\n",
        "map = dict()\n",
        "\n",
        "type(map)\n",
        "map = {'key-1': 'value-1', 'key-2': 'value-2'}\n",
        "map.keys()\n",
        "map.values()\n",
        "\n",
        "for key, value in map.items():\n",
        "    print(f\"{key}: {value}\")\n",
        "\n",
        "print(\"Custom Funcitons\")\n",
        "def positioned(first,second):\n",
        "    print(f\"first: {first}\")\n",
        "    print(f\"Second: {second}\")\n",
        "\n",
        "positioned(3,1)\n",
        "items = [[0, 'a', 2], [5, 'b', 0], [2, 'c', 1]]\n",
        "data = {'kuldeep': 50, 'Axe': 12, 'bar': 3, 'foo': 12, 'john': 100, 'kuldeep': 50}\n",
        "print(\"The original list : \" + str(items))\n",
        "data.keys()\n",
        "sorted(data.keys())\n",
        "for key in sorted(data.keys()) :\n",
        "    print(key , \" :: \" , data[key])\n",
        "data.items()\n",
        "\n",
        "listofTuples = sorted(data.items() ,  key=lambda x: x[0])\n",
        "for elem in listofTuples:\n",
        "    print(elem[0], \" ::\" , elem[1])\n",
        "\n",
        "item_sorted=sorted(data.items(), reverse=True, key=lambda x: x[1])\n",
        "for i in item_sorted:\n",
        "    print(i[0], \" :: \", i[1])\n",
        "\n",
        "\n",
        "cc_list = '''Ezra Koenig <ekoenig@vpwk.com>,\n",
        "    Rostam Batmanglij <rostam@vpwk.com>,\n",
        "    Chris Tomson <ctomson@vpwk.com,\n",
        "    Bobbi Baio <bbaio@vpwk.com'''\n",
        "\n",
        "'Rostam' in cc_list\n",
        "\n",
        "import re\n",
        "if re.search(r'Rostam', cc_list):\n",
        "    print('Found Rostam')\n",
        "\n",
        "re.search(r'[R,B]obb[i,y]', cc_list)\n",
        "re.search(r'Chr[a-z][a-z]', cc_list)\n",
        "re.search(r'[A-Za-z]+', cc_list)\n",
        "re.search(r'[A-Za-z]{6}', cc_list)\n",
        "re.search(r'[A-Za-z]+@[a-z]+\\.[a-z]+', cc_list)\n",
        "re.search(r'\\w+', cc_list)\n",
        "re.search(r'\\w+\\@\\w+\\.\\w+', cc_list)\n",
        "matched = re.search(r'(\\w+)\\@(\\w+)\\.(\\w+)', cc_list)\n",
        "matched.group(0)\n",
        "matched.group(1)\n",
        "matched.group(2)\n",
        "matched.group(3)\n",
        "#matched.group('name')\n",
        "print(\"Find All for RE package\")\n",
        "matched = re.findall(r'(\\w+\\@\\w+\\.\\w+)', cc_list)\n",
        "print(matched)\n",
        "print(\"finditer in RE package\")\n",
        "matched = re.finditer(r'\\w+\\@\\w+\\.\\w+', cc_list)\n",
        "matched\n",
        "next(matched)\n",
        "matched = re.finditer(r'(?P<name>\\w+)\\@(?P<SLD>\\w+)\\.(?P<TLD>\\w+)', cc_list)\n",
        "print(\"Using iter in for loop\")\n",
        "for m in matched:\n",
        "    print(m.groupdict())\n",
        "\n",
        "print(\"*** Substitution ***\")\n",
        "re.sub(\"\\d\", \"#\", \"The passcode you entered was  09876\")\n",
        "users = re.sub(\"(?P<name>\\w+)\\@(?P<SLD>\\w+)\\.(?P<TLD>\\w+)\",\"\\g<TLD>.\\g<SLD>.\\g<name>\", cc_list)\n",
        "print(users)\n",
        "print(\"Compiling\")\n",
        "regex = re.compile(r'\\w+\\@\\w+\\.\\w+')\n",
        "regex.search(cc_list)\n",
        "regex.findall(cc_list)\n",
        "\n",
        "print(\"generators\")\n",
        "def count():\n",
        "    n = 0\n",
        "    while True:\n",
        "        n += 1\n",
        "        yield n\n",
        "\n",
        "counter = count()\n",
        "counter\n",
        "next(counter)\n",
        "\n",
        "print(\"*** Fibonacci generator\")\n",
        "def fib():\n",
        "    first = 0\n",
        "    last = 1\n",
        "    while True:\n",
        "        first, last = last, first+last\n",
        "        yield first\n",
        "\n",
        "f = fib()\n",
        "#next(f)\n",
        "\n",
        "print(\"** Generator using for loop\")\n",
        "for x in f:\n",
        "    print(x)\n",
        "    if x > 12:\n",
        "        break\n",
        "\n",
        "list_o_nums = [x for x in range(100)]\n",
        "gen_o_nums = (x for x in range(100))\n",
        "list_o_nums\n",
        "gen_o_nums\n",
        "\n",
        "print(\"*** Get the Memory Used **\")\n",
        "import sys\n",
        "print(\"Memory Used by List :: \", sys.getsizeof(list_o_nums))\n",
        "print(\"Memory Used by Generator :: \", sys.getsizeof(gen_o_nums))\n"
      ],
      "execution_count": 0,
      "outputs": []
    },
    {
      "cell_type": "code",
      "metadata": {
        "id": "Q8XmLjSMOCKO",
        "colab_type": "code",
        "colab": {
          "base_uri": "https://localhost:8080/",
          "height": 51
        },
        "outputId": "019c370b-6bb1-468c-8b33-60c6b7f71d3b"
      },
      "source": [
        "!ls -l"
      ],
      "execution_count": 2,
      "outputs": [
        {
          "output_type": "stream",
          "text": [
            "total 4\n",
            "drwxr-xr-x 1 root root 4096 Dec 18 16:52 sample_data\n"
          ],
          "name": "stdout"
        }
      ]
    },
    {
      "cell_type": "code",
      "metadata": {
        "id": "rcGWfVm6OCKR",
        "colab_type": "code",
        "colab": {
          "base_uri": "https://localhost:8080/",
          "height": 34
        },
        "outputId": "f902ace6-6fae-412e-a56e-9ba7de058515"
      },
      "source": [
        "var=!ls -l\n",
        "var.grep(\"data\")"
      ],
      "execution_count": 5,
      "outputs": [
        {
          "output_type": "execute_result",
          "data": {
            "text/plain": [
              "['drwxr-xr-x 1 root root 4096 Dec 18 16:52 sample_data']"
            ]
          },
          "metadata": {
            "tags": []
          },
          "execution_count": 5
        }
      ]
    },
    {
      "cell_type": "code",
      "metadata": {
        "id": "9l68tYbzOCKT",
        "colab_type": "code",
        "colab": {}
      },
      "source": [
        ""
      ],
      "execution_count": 0,
      "outputs": []
    },
    {
      "cell_type": "markdown",
      "metadata": {
        "id": "eJWNT-qKQQwD",
        "colab_type": "text"
      },
      "source": [
        "##Jupiter ##\n",
        "### Hosted Commercial Flavors! ###\n",
        "**Google Colaboratory** Free\n",
        "\n",
        "**Kaggle** Free"
      ]
    },
    {
      "cell_type": "markdown",
      "metadata": {
        "id": "CLomenYdQNIQ",
        "colab_type": "text"
      },
      "source": [
        ""
      ]
    },
    {
      "cell_type": "markdown",
      "metadata": {
        "id": "xZ5UnE9VSgRQ",
        "colab_type": "text"
      },
      "source": [
        "%alias"
      ]
    },
    {
      "cell_type": "code",
      "metadata": {
        "colab_type": "code",
        "id": "HepnR1NYS-p5",
        "colab": {}
      },
      "source": [
        "alias lscsv ls -l sample_data/*.csv"
      ],
      "execution_count": 0,
      "outputs": []
    },
    {
      "cell_type": "code",
      "metadata": {
        "id": "b1JKvok1TAyV",
        "colab_type": "code",
        "colab": {
          "base_uri": "https://localhost:8080/",
          "height": 85
        },
        "outputId": "5ee08a07-91cd-40db-c6c2-76b4eb35d928"
      },
      "source": [
        "lscsv"
      ],
      "execution_count": 18,
      "outputs": [
        {
          "output_type": "stream",
          "text": [
            "-rw-r--r-- 1 root root   301141 Dec 18 16:52 sample_data/california_housing_test.csv\n",
            "-rw-r--r-- 1 root root  1706430 Dec 18 16:52 sample_data/california_housing_train.csv\n",
            "-rw-r--r-- 1 root root 18289443 Dec 18 16:52 sample_data/mnist_test.csv\n",
            "-rw-r--r-- 1 root root 36523880 Dec 18 16:52 sample_data/mnist_train_small.csv\n"
          ],
          "name": "stdout"
        }
      ]
    }
  ]
}