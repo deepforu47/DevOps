{
  "nbformat": 4,
  "nbformat_minor": 0,
  "metadata": {
    "kernelspec": {
      "display_name": "Python 3",
      "language": "python",
      "name": "python3"
    },
    "language_info": {
      "codemirror_mode": {
        "name": "ipython",
        "version": 3
      },
      "file_extension": ".py",
      "mimetype": "text/x-python",
      "name": "python",
      "nbconvert_exporter": "python",
      "pygments_lexer": "ipython3",
      "version": "3.7.5"
    },
    "colab": {
      "name": "pythonfordevops-kuldeep",
      "provenance": [],
      "collapsed_sections": [
        "L0rJnmZyOCKJ"
      ],
      "toc_visible": true,
      "include_colab_link": true
    }
  },
  "cells": [
    {
      "cell_type": "markdown",
      "metadata": {
        "id": "view-in-github",
        "colab_type": "text"
      },
      "source": [
        "<a href=\"https://colab.research.google.com/github/deepforu47/DevOps/blob/master/pythonfordevops_kuldeep.ipynb\" target=\"_parent\"><img src=\"https://colab.research.google.com/assets/colab-badge.svg\" alt=\"Open In Colab\"/></a>"
      ]
    },
    {
      "cell_type": "markdown",
      "metadata": {
        "id": "L0rJnmZyOCKJ",
        "colab_type": "text"
      },
      "source": [
        "#Python For DevOps#\n",
        "**Chapter-01**"
      ]
    },
    {
      "cell_type": "code",
      "metadata": {
        "id": "5k-BzbR4OCKL",
        "colab_type": "code",
        "colab": {}
      },
      "source": [
        "from string import Template\n",
        "greeting = Template(\"$hello Mark Anthony\")\n",
        "print(greeting.substitute(hello=\"Bonjour\"))\n",
        "\n",
        "\n",
        "print('{} comes before {}'.format('first', 'second'))\n",
        "print(\"Here a dict works to supply the key values for name based replacement fields:\")\n",
        "values = {'first': 'Bill', 'last': 'Bailey'}\n",
        "print(\"Won't you come home {first} {last}?\".format(**values))\n",
        "\n",
        "count = 43\n",
        "print(f\"|{count:5d}\")\n",
        "\n",
        "map = dict()\n",
        "\n",
        "type(map)\n",
        "map = {'key-1': 'value-1', 'key-2': 'value-2'}\n",
        "map.keys()\n",
        "map.values()\n",
        "\n",
        "for key, value in map.items():\n",
        "    print(f\"{key}: {value}\")\n",
        "\n",
        "print(\"Custom Funcitons\")\n",
        "def positioned(first,second):\n",
        "    print(f\"first: {first}\")\n",
        "    print(f\"Second: {second}\")\n",
        "\n",
        "positioned(3,1)\n",
        "items = [[0, 'a', 2], [5, 'b', 0], [2, 'c', 1]]\n",
        "data = {'kuldeep': 50, 'Axe': 12, 'bar': 3, 'foo': 12, 'john': 100, 'kuldeep': 50}\n",
        "print(\"The original list : \" + str(items))\n",
        "data.keys()\n",
        "sorted(data.keys())\n",
        "for key in sorted(data.keys()) :\n",
        "    print(key , \" :: \" , data[key])\n",
        "data.items()\n",
        "\n",
        "listofTuples = sorted(data.items() ,  key=lambda x: x[0])\n",
        "for elem in listofTuples:\n",
        "    print(elem[0], \" ::\" , elem[1])\n",
        "\n",
        "item_sorted=sorted(data.items(), reverse=True, key=lambda x: x[1])\n",
        "for i in item_sorted:\n",
        "    print(i[0], \" :: \", i[1])\n",
        "\n",
        "\n",
        "cc_list = '''Ezra Koenig <ekoenig@vpwk.com>,\n",
        "    Rostam Batmanglij <rostam@vpwk.com>,\n",
        "    Chris Tomson <ctomson@vpwk.com,\n",
        "    Bobbi Baio <bbaio@vpwk.com'''\n",
        "\n",
        "'Rostam' in cc_list\n",
        "\n",
        "import re\n",
        "if re.search(r'Rostam', cc_list):\n",
        "    print('Found Rostam')\n",
        "\n",
        "re.search(r'[R,B]obb[i,y]', cc_list)\n",
        "re.search(r'Chr[a-z][a-z]', cc_list)\n",
        "re.search(r'[A-Za-z]+', cc_list)\n",
        "re.search(r'[A-Za-z]{6}', cc_list)\n",
        "re.search(r'[A-Za-z]+@[a-z]+\\.[a-z]+', cc_list)\n",
        "re.search(r'\\w+', cc_list)\n",
        "re.search(r'\\w+\\@\\w+\\.\\w+', cc_list)\n",
        "matched = re.search(r'(\\w+)\\@(\\w+)\\.(\\w+)', cc_list)\n",
        "matched.group(0)\n",
        "matched.group(1)\n",
        "matched.group(2)\n",
        "matched.group(3)\n",
        "#matched.group('name')\n",
        "print(\"Find All for RE package\")\n",
        "matched = re.findall(r'(\\w+\\@\\w+\\.\\w+)', cc_list)\n",
        "print(matched)\n",
        "print(\"finditer in RE package\")\n",
        "matched = re.finditer(r'\\w+\\@\\w+\\.\\w+', cc_list)\n",
        "matched\n",
        "next(matched)\n",
        "matched = re.finditer(r'(?P<name>\\w+)\\@(?P<SLD>\\w+)\\.(?P<TLD>\\w+)', cc_list)\n",
        "print(\"Using iter in for loop\")\n",
        "for m in matched:\n",
        "    print(m.groupdict())\n",
        "\n",
        "print(\"*** Substitution ***\")\n",
        "re.sub(\"\\d\", \"#\", \"The passcode you entered was  09876\")\n",
        "users = re.sub(\"(?P<name>\\w+)\\@(?P<SLD>\\w+)\\.(?P<TLD>\\w+)\",\"\\g<TLD>.\\g<SLD>.\\g<name>\", cc_list)\n",
        "print(users)\n",
        "print(\"Compiling\")\n",
        "regex = re.compile(r'\\w+\\@\\w+\\.\\w+')\n",
        "regex.search(cc_list)\n",
        "regex.findall(cc_list)\n",
        "\n",
        "print(\"generators\")\n",
        "def count():\n",
        "    n = 0\n",
        "    while True:\n",
        "        n += 1\n",
        "        yield n\n",
        "\n",
        "counter = count()\n",
        "counter\n",
        "next(counter)\n",
        "\n",
        "print(\"*** Fibonacci generator\")\n",
        "def fib():\n",
        "    first = 0\n",
        "    last = 1\n",
        "    while True:\n",
        "        first, last = last, first+last\n",
        "        yield first\n",
        "\n",
        "f = fib()\n",
        "#next(f)\n",
        "\n",
        "print(\"** Generator using for loop\")\n",
        "for x in f:\n",
        "    print(x)\n",
        "    if x > 12:\n",
        "        break\n",
        "\n",
        "list_o_nums = [x for x in range(100)]\n",
        "gen_o_nums = (x for x in range(100))\n",
        "list_o_nums\n",
        "gen_o_nums\n",
        "\n",
        "print(\"*** Get the Memory Used **\")\n",
        "import sys\n",
        "print(\"Memory Used by List :: \", sys.getsizeof(list_o_nums))\n",
        "print(\"Memory Used by Generator :: \", sys.getsizeof(gen_o_nums))\n"
      ],
      "execution_count": 0,
      "outputs": []
    },
    {
      "cell_type": "code",
      "metadata": {
        "id": "Q8XmLjSMOCKO",
        "colab_type": "code",
        "colab": {
          "base_uri": "https://localhost:8080/",
          "height": 51
        },
        "outputId": "019c370b-6bb1-468c-8b33-60c6b7f71d3b"
      },
      "source": [
        "!ls -l"
      ],
      "execution_count": 2,
      "outputs": [
        {
          "output_type": "stream",
          "text": [
            "total 4\n",
            "drwxr-xr-x 1 root root 4096 Dec 18 16:52 sample_data\n"
          ],
          "name": "stdout"
        }
      ]
    },
    {
      "cell_type": "code",
      "metadata": {
        "id": "rcGWfVm6OCKR",
        "colab_type": "code",
        "colab": {
          "base_uri": "https://localhost:8080/",
          "height": 34
        },
        "outputId": "f902ace6-6fae-412e-a56e-9ba7de058515"
      },
      "source": [
        "var=!ls -l\n",
        "var.grep(\"data\")"
      ],
      "execution_count": 5,
      "outputs": [
        {
          "output_type": "execute_result",
          "data": {
            "text/plain": [
              "['drwxr-xr-x 1 root root 4096 Dec 18 16:52 sample_data']"
            ]
          },
          "metadata": {
            "tags": []
          },
          "execution_count": 5
        }
      ]
    },
    {
      "cell_type": "code",
      "metadata": {
        "id": "9l68tYbzOCKT",
        "colab_type": "code",
        "colab": {}
      },
      "source": [
        ""
      ],
      "execution_count": 0,
      "outputs": []
    },
    {
      "cell_type": "markdown",
      "metadata": {
        "id": "eJWNT-qKQQwD",
        "colab_type": "text"
      },
      "source": [
        "##Jupiter ##\n",
        "### Hosted Commercial Flavors! ###\n",
        "**Google Colaboratory** Free\n",
        "\n",
        "**Kaggle** Free"
      ]
    },
    {
      "cell_type": "markdown",
      "metadata": {
        "id": "CLomenYdQNIQ",
        "colab_type": "text"
      },
      "source": [
        ""
      ]
    },
    {
      "cell_type": "markdown",
      "metadata": {
        "id": "xZ5UnE9VSgRQ",
        "colab_type": "text"
      },
      "source": [
        "%alias"
      ]
    },
    {
      "cell_type": "code",
      "metadata": {
        "colab_type": "code",
        "id": "HepnR1NYS-p5",
        "colab": {}
      },
      "source": [
        "alias lscsv ls -l sample_data/*.csv"
      ],
      "execution_count": 0,
      "outputs": []
    },
    {
      "cell_type": "code",
      "metadata": {
        "id": "b1JKvok1TAyV",
        "colab_type": "code",
        "colab": {
          "base_uri": "https://localhost:8080/",
          "height": 85
        },
        "outputId": "5ee08a07-91cd-40db-c6c2-76b4eb35d928"
      },
      "source": [
        "lscsv"
      ],
      "execution_count": 18,
      "outputs": [
        {
          "output_type": "stream",
          "text": [
            "-rw-r--r-- 1 root root   301141 Dec 18 16:52 sample_data/california_housing_test.csv\n",
            "-rw-r--r-- 1 root root  1706430 Dec 18 16:52 sample_data/california_housing_train.csv\n",
            "-rw-r--r-- 1 root root 18289443 Dec 18 16:52 sample_data/mnist_test.csv\n",
            "-rw-r--r-- 1 root root 36523880 Dec 18 16:52 sample_data/mnist_train_small.csv\n"
          ],
          "name": "stdout"
        }
      ]
    },
    {
      "cell_type": "markdown",
      "metadata": {
        "id": "6re69DiCVGHq",
        "colab_type": "text"
      },
      "source": [
        "bash"
      ]
    },
    {
      "cell_type": "code",
      "metadata": {
        "id": "sCxBzE4KUnRx",
        "colab_type": "code",
        "colab": {}
      },
      "source": [
        "%%bash\n",
        "uname -a\n",
        "ps\n",
        "echo \"HELLO $SHELL\""
      ],
      "execution_count": 0,
      "outputs": []
    },
    {
      "cell_type": "markdown",
      "metadata": {
        "id": "yOHAA_Q1VSky",
        "colab_type": "text"
      },
      "source": [
        "python2"
      ]
    },
    {
      "cell_type": "code",
      "metadata": {
        "id": "bg-fkDqMVdao",
        "colab_type": "code",
        "colab": {
          "base_uri": "https://localhost:8080/",
          "height": 34
        },
        "outputId": "e681e558-aecd-4140-bcde-bfe7edd2a5cc"
      },
      "source": [
        "%%python2\n",
        "print \"Hello Python2\""
      ],
      "execution_count": 22,
      "outputs": [
        {
          "output_type": "stream",
          "text": [
            "Hello Python2\n"
          ],
          "name": "stdout"
        }
      ]
    },
    {
      "cell_type": "markdown",
      "metadata": {
        "id": "it-r0zxKVZ7Y",
        "colab_type": "text"
      },
      "source": [
        "html"
      ]
    },
    {
      "cell_type": "code",
      "metadata": {
        "id": "JKrku2GHVmdG",
        "colab_type": "code",
        "colab": {
          "base_uri": "https://localhost:8080/",
          "height": 34
        },
        "outputId": "f0a2a187-9f6a-43a9-e45d-524229233548"
      },
      "source": [
        "%%html\n",
        "<h><b> Hello HTML </b></h>"
      ],
      "execution_count": 25,
      "outputs": [
        {
          "output_type": "display_data",
          "data": {
            "text/html": [
              "<h><b> Hello HTML </b></h>"
            ],
            "text/plain": [
              "<IPython.core.display.HTML object>"
            ]
          },
          "metadata": {
            "tags": []
          }
        }
      ]
    },
    {
      "cell_type": "markdown",
      "metadata": {
        "id": "FD2ygZnxWHIa",
        "colab_type": "text"
      },
      "source": [
        "# Camera Capture\n"
      ]
    },
    {
      "cell_type": "code",
      "metadata": {
        "id": "HVeujSm0XkFB",
        "colab_type": "code",
        "colab": {}
      },
      "source": [
        "from IPython.display import display, Javascript\n",
        "from google.colab.output import eval_js\n",
        "from base64 import b64decode\n",
        "\n",
        "def take_photo(filename='photo.jpg', quality=0.8):\n",
        "  js = Javascript('''\n",
        "    async function takePhoto(quality) {\n",
        "      const div = document.createElement('div');\n",
        "      const capture = document.createElement('button');\n",
        "      capture.textContent = 'Capture';\n",
        "      div.appendChild(capture);\n",
        "\n",
        "      const video = document.createElement('video');\n",
        "      video.style.display = 'block';\n",
        "      const stream = await navigator.mediaDevices.getUserMedia({video: true});\n",
        "\n",
        "      document.body.appendChild(div);\n",
        "      div.appendChild(video);\n",
        "      video.srcObject = stream;\n",
        "      await video.play();\n",
        "\n",
        "      // Resize the output to fit the video element.\n",
        "      google.colab.output.setIframeHeight(document.documentElement.scrollHeight, true);\n",
        "\n",
        "      // Wait for Capture to be clicked.\n",
        "      await new Promise((resolve) => capture.onclick = resolve);\n",
        "\n",
        "      const canvas = document.createElement('canvas');\n",
        "      canvas.width = video.videoWidth;\n",
        "      canvas.height = video.videoHeight;\n",
        "      canvas.getContext('2d').drawImage(video, 0, 0);\n",
        "      stream.getVideoTracks()[0].stop();\n",
        "      div.remove();\n",
        "      return canvas.toDataURL('image/jpeg', quality);\n",
        "    }\n",
        "    ''')\n",
        "  display(js)\n",
        "  data = eval_js('takePhoto({})'.format(quality))\n",
        "  binary = b64decode(data.split(',')[1])\n",
        "  with open(filename, 'wb') as f:\n",
        "    f.write(binary)\n",
        "  return filename"
      ],
      "execution_count": 0,
      "outputs": []
    },
    {
      "cell_type": "code",
      "metadata": {
        "id": "BbtEkjgeXkEk",
        "colab_type": "code",
        "colab": {}
      },
      "source": [
        "from IPython.display import Image\n",
        "try:\n",
        "  filename = take_photo()\n",
        "  print('Saved to {}'.format(filename))\n",
        "  \n",
        "  # Show the image which was just taken.\n",
        "  display(Image(filename))\n",
        "except Exception as err:\n",
        "  # Errors will be thrown if the user does not have a webcam or if they do not\n",
        "  # grant the page permission to access it.\n",
        "  print(str(err))"
      ],
      "execution_count": 0,
      "outputs": []
    },
    {
      "cell_type": "code",
      "metadata": {
        "colab_type": "code",
        "outputId": "a2abfd7d-f2e8-4cb4-8ddb-5a23561f3526",
        "id": "NynYUI0oX0hm",
        "colab": {
          "base_uri": "https://localhost:8080/",
          "height": 85
        }
      },
      "source": [
        "%who"
      ],
      "execution_count": 0,
      "outputs": [
        {
          "output_type": "stream",
          "text": [
            "Image\t Javascript\t Template\t b64decode\t cc_list\t count\t counter\t data\t display\t \n",
            "elem\t eval_js\t f\t fib\t filename\t gen_o_nums\t greeting\t i\t item_sorted\t \n",
            "items\t key\t list_o_nums\t listofTuples\t m\t map\t matched\t positioned\t re\t \n",
            "regex\t sys\t take_photo\t users\t value\t values\t var\t x\t \n"
          ],
          "name": "stdout"
        }
      ]
    }
  ]
}